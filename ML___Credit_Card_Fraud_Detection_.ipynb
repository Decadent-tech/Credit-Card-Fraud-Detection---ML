{
  "nbformat": 4,
  "nbformat_minor": 0,
  "metadata": {
    "colab": {
      "provenance": [],
      "gpuType": "T4"
    },
    "kernelspec": {
      "name": "python3",
      "display_name": "Python 3"
    },
    "language_info": {
      "name": "python"
    }
  },
  "cells": [
    {
      "cell_type": "markdown",
      "source": [
        " # Importing all the necessary Libraries"
      ],
      "metadata": {
        "id": "h9fKAHufkqXW"
      }
    },
    {
      "cell_type": "code",
      "execution_count": 4,
      "metadata": {
        "id": "s1MR-dyghE2W"
      },
      "outputs": [],
      "source": [
        "import numpy as np\n",
        "import pandas as pd\n",
        "import matplotlib.pyplot as plt\n",
        "import seaborn as sns\n",
        "from matplotlib import gridspec"
      ]
    },
    {
      "cell_type": "markdown",
      "source": [
        "#Loading the Data"
      ],
      "metadata": {
        "id": "z57GE3IpkxY0"
      }
    },
    {
      "cell_type": "code",
      "source": [
        "data = pd.read_csv(\"creditcard.csv\")\n",
        "# Impute NaN values in the 'Class' column before splitting\n",
        "from sklearn.impute import SimpleImputer\n",
        "imputer = SimpleImputer(strategy='most_frequent')\n",
        "data['Class'] = imputer.fit_transform(data['Class'].values.reshape(-1, 1)).flatten()\n",
        "data.head(5)"
      ],
      "metadata": {
        "id": "x0ssRwgFhiqq",
        "colab": {
          "base_uri": "https://localhost:8080/",
          "height": 256
        },
        "outputId": "311d6ed8-7dd1-43f1-d703-28b7a5ed47fd"
      },
      "execution_count": 19,
      "outputs": [
        {
          "output_type": "execute_result",
          "data": {
            "text/plain": [
              "   Time        V1        V2        V3        V4        V5        V6        V7  \\\n",
              "0   0.0 -1.359807 -0.072781  2.536347  1.378155 -0.338321  0.462388  0.239599   \n",
              "1   0.0  1.191857  0.266151  0.166480  0.448154  0.060018 -0.082361 -0.078803   \n",
              "2   1.0 -1.358354 -1.340163  1.773209  0.379780 -0.503198  1.800499  0.791461   \n",
              "3   1.0 -0.966272 -0.185226  1.792993 -0.863291 -0.010309  1.247203  0.237609   \n",
              "4   2.0 -1.158233  0.877737  1.548718  0.403034 -0.407193  0.095921  0.592941   \n",
              "\n",
              "         V8        V9  ...       V21       V22       V23       V24       V25  \\\n",
              "0  0.098698  0.363787  ... -0.018307  0.277838 -0.110474  0.066928  0.128539   \n",
              "1  0.085102 -0.255425  ... -0.225775 -0.638672  0.101288 -0.339846  0.167170   \n",
              "2  0.247676 -1.514654  ...  0.247998  0.771679  0.909412 -0.689281 -0.327642   \n",
              "3  0.377436 -1.387024  ... -0.108300  0.005274 -0.190321 -1.175575  0.647376   \n",
              "4 -0.270533  0.817739  ... -0.009431  0.798278 -0.137458  0.141267 -0.206010   \n",
              "\n",
              "        V26       V27       V28  Amount  Class  \n",
              "0 -0.189115  0.133558 -0.021053  149.62    0.0  \n",
              "1  0.125895 -0.008983  0.014724    2.69    0.0  \n",
              "2 -0.139097 -0.055353 -0.059752  378.66    0.0  \n",
              "3 -0.221929  0.062723  0.061458  123.50    0.0  \n",
              "4  0.502292  0.219422  0.215153   69.99    0.0  \n",
              "\n",
              "[5 rows x 31 columns]"
            ],
            "text/html": [
              "\n",
              "  <div id=\"df-052cc729-a5ca-48a2-b291-50df0de97d7b\" class=\"colab-df-container\">\n",
              "    <div>\n",
              "<style scoped>\n",
              "    .dataframe tbody tr th:only-of-type {\n",
              "        vertical-align: middle;\n",
              "    }\n",
              "\n",
              "    .dataframe tbody tr th {\n",
              "        vertical-align: top;\n",
              "    }\n",
              "\n",
              "    .dataframe thead th {\n",
              "        text-align: right;\n",
              "    }\n",
              "</style>\n",
              "<table border=\"1\" class=\"dataframe\">\n",
              "  <thead>\n",
              "    <tr style=\"text-align: right;\">\n",
              "      <th></th>\n",
              "      <th>Time</th>\n",
              "      <th>V1</th>\n",
              "      <th>V2</th>\n",
              "      <th>V3</th>\n",
              "      <th>V4</th>\n",
              "      <th>V5</th>\n",
              "      <th>V6</th>\n",
              "      <th>V7</th>\n",
              "      <th>V8</th>\n",
              "      <th>V9</th>\n",
              "      <th>...</th>\n",
              "      <th>V21</th>\n",
              "      <th>V22</th>\n",
              "      <th>V23</th>\n",
              "      <th>V24</th>\n",
              "      <th>V25</th>\n",
              "      <th>V26</th>\n",
              "      <th>V27</th>\n",
              "      <th>V28</th>\n",
              "      <th>Amount</th>\n",
              "      <th>Class</th>\n",
              "    </tr>\n",
              "  </thead>\n",
              "  <tbody>\n",
              "    <tr>\n",
              "      <th>0</th>\n",
              "      <td>0.0</td>\n",
              "      <td>-1.359807</td>\n",
              "      <td>-0.072781</td>\n",
              "      <td>2.536347</td>\n",
              "      <td>1.378155</td>\n",
              "      <td>-0.338321</td>\n",
              "      <td>0.462388</td>\n",
              "      <td>0.239599</td>\n",
              "      <td>0.098698</td>\n",
              "      <td>0.363787</td>\n",
              "      <td>...</td>\n",
              "      <td>-0.018307</td>\n",
              "      <td>0.277838</td>\n",
              "      <td>-0.110474</td>\n",
              "      <td>0.066928</td>\n",
              "      <td>0.128539</td>\n",
              "      <td>-0.189115</td>\n",
              "      <td>0.133558</td>\n",
              "      <td>-0.021053</td>\n",
              "      <td>149.62</td>\n",
              "      <td>0.0</td>\n",
              "    </tr>\n",
              "    <tr>\n",
              "      <th>1</th>\n",
              "      <td>0.0</td>\n",
              "      <td>1.191857</td>\n",
              "      <td>0.266151</td>\n",
              "      <td>0.166480</td>\n",
              "      <td>0.448154</td>\n",
              "      <td>0.060018</td>\n",
              "      <td>-0.082361</td>\n",
              "      <td>-0.078803</td>\n",
              "      <td>0.085102</td>\n",
              "      <td>-0.255425</td>\n",
              "      <td>...</td>\n",
              "      <td>-0.225775</td>\n",
              "      <td>-0.638672</td>\n",
              "      <td>0.101288</td>\n",
              "      <td>-0.339846</td>\n",
              "      <td>0.167170</td>\n",
              "      <td>0.125895</td>\n",
              "      <td>-0.008983</td>\n",
              "      <td>0.014724</td>\n",
              "      <td>2.69</td>\n",
              "      <td>0.0</td>\n",
              "    </tr>\n",
              "    <tr>\n",
              "      <th>2</th>\n",
              "      <td>1.0</td>\n",
              "      <td>-1.358354</td>\n",
              "      <td>-1.340163</td>\n",
              "      <td>1.773209</td>\n",
              "      <td>0.379780</td>\n",
              "      <td>-0.503198</td>\n",
              "      <td>1.800499</td>\n",
              "      <td>0.791461</td>\n",
              "      <td>0.247676</td>\n",
              "      <td>-1.514654</td>\n",
              "      <td>...</td>\n",
              "      <td>0.247998</td>\n",
              "      <td>0.771679</td>\n",
              "      <td>0.909412</td>\n",
              "      <td>-0.689281</td>\n",
              "      <td>-0.327642</td>\n",
              "      <td>-0.139097</td>\n",
              "      <td>-0.055353</td>\n",
              "      <td>-0.059752</td>\n",
              "      <td>378.66</td>\n",
              "      <td>0.0</td>\n",
              "    </tr>\n",
              "    <tr>\n",
              "      <th>3</th>\n",
              "      <td>1.0</td>\n",
              "      <td>-0.966272</td>\n",
              "      <td>-0.185226</td>\n",
              "      <td>1.792993</td>\n",
              "      <td>-0.863291</td>\n",
              "      <td>-0.010309</td>\n",
              "      <td>1.247203</td>\n",
              "      <td>0.237609</td>\n",
              "      <td>0.377436</td>\n",
              "      <td>-1.387024</td>\n",
              "      <td>...</td>\n",
              "      <td>-0.108300</td>\n",
              "      <td>0.005274</td>\n",
              "      <td>-0.190321</td>\n",
              "      <td>-1.175575</td>\n",
              "      <td>0.647376</td>\n",
              "      <td>-0.221929</td>\n",
              "      <td>0.062723</td>\n",
              "      <td>0.061458</td>\n",
              "      <td>123.50</td>\n",
              "      <td>0.0</td>\n",
              "    </tr>\n",
              "    <tr>\n",
              "      <th>4</th>\n",
              "      <td>2.0</td>\n",
              "      <td>-1.158233</td>\n",
              "      <td>0.877737</td>\n",
              "      <td>1.548718</td>\n",
              "      <td>0.403034</td>\n",
              "      <td>-0.407193</td>\n",
              "      <td>0.095921</td>\n",
              "      <td>0.592941</td>\n",
              "      <td>-0.270533</td>\n",
              "      <td>0.817739</td>\n",
              "      <td>...</td>\n",
              "      <td>-0.009431</td>\n",
              "      <td>0.798278</td>\n",
              "      <td>-0.137458</td>\n",
              "      <td>0.141267</td>\n",
              "      <td>-0.206010</td>\n",
              "      <td>0.502292</td>\n",
              "      <td>0.219422</td>\n",
              "      <td>0.215153</td>\n",
              "      <td>69.99</td>\n",
              "      <td>0.0</td>\n",
              "    </tr>\n",
              "  </tbody>\n",
              "</table>\n",
              "<p>5 rows × 31 columns</p>\n",
              "</div>\n",
              "    <div class=\"colab-df-buttons\">\n",
              "\n",
              "  <div class=\"colab-df-container\">\n",
              "    <button class=\"colab-df-convert\" onclick=\"convertToInteractive('df-052cc729-a5ca-48a2-b291-50df0de97d7b')\"\n",
              "            title=\"Convert this dataframe to an interactive table.\"\n",
              "            style=\"display:none;\">\n",
              "\n",
              "  <svg xmlns=\"http://www.w3.org/2000/svg\" height=\"24px\" viewBox=\"0 -960 960 960\">\n",
              "    <path d=\"M120-120v-720h720v720H120Zm60-500h600v-160H180v160Zm220 220h160v-160H400v160Zm0 220h160v-160H400v160ZM180-400h160v-160H180v160Zm440 0h160v-160H620v160ZM180-180h160v-160H180v160Zm440 0h160v-160H620v160Z\"/>\n",
              "  </svg>\n",
              "    </button>\n",
              "\n",
              "  <style>\n",
              "    .colab-df-container {\n",
              "      display:flex;\n",
              "      gap: 12px;\n",
              "    }\n",
              "\n",
              "    .colab-df-convert {\n",
              "      background-color: #E8F0FE;\n",
              "      border: none;\n",
              "      border-radius: 50%;\n",
              "      cursor: pointer;\n",
              "      display: none;\n",
              "      fill: #1967D2;\n",
              "      height: 32px;\n",
              "      padding: 0 0 0 0;\n",
              "      width: 32px;\n",
              "    }\n",
              "\n",
              "    .colab-df-convert:hover {\n",
              "      background-color: #E2EBFA;\n",
              "      box-shadow: 0px 1px 2px rgba(60, 64, 67, 0.3), 0px 1px 3px 1px rgba(60, 64, 67, 0.15);\n",
              "      fill: #174EA6;\n",
              "    }\n",
              "\n",
              "    .colab-df-buttons div {\n",
              "      margin-bottom: 4px;\n",
              "    }\n",
              "\n",
              "    [theme=dark] .colab-df-convert {\n",
              "      background-color: #3B4455;\n",
              "      fill: #D2E3FC;\n",
              "    }\n",
              "\n",
              "    [theme=dark] .colab-df-convert:hover {\n",
              "      background-color: #434B5C;\n",
              "      box-shadow: 0px 1px 3px 1px rgba(0, 0, 0, 0.15);\n",
              "      filter: drop-shadow(0px 1px 2px rgba(0, 0, 0, 0.3));\n",
              "      fill: #FFFFFF;\n",
              "    }\n",
              "  </style>\n",
              "\n",
              "    <script>\n",
              "      const buttonEl =\n",
              "        document.querySelector('#df-052cc729-a5ca-48a2-b291-50df0de97d7b button.colab-df-convert');\n",
              "      buttonEl.style.display =\n",
              "        google.colab.kernel.accessAllowed ? 'block' : 'none';\n",
              "\n",
              "      async function convertToInteractive(key) {\n",
              "        const element = document.querySelector('#df-052cc729-a5ca-48a2-b291-50df0de97d7b');\n",
              "        const dataTable =\n",
              "          await google.colab.kernel.invokeFunction('convertToInteractive',\n",
              "                                                    [key], {});\n",
              "        if (!dataTable) return;\n",
              "\n",
              "        const docLinkHtml = 'Like what you see? Visit the ' +\n",
              "          '<a target=\"_blank\" href=https://colab.research.google.com/notebooks/data_table.ipynb>data table notebook</a>'\n",
              "          + ' to learn more about interactive tables.';\n",
              "        element.innerHTML = '';\n",
              "        dataTable['output_type'] = 'display_data';\n",
              "        await google.colab.output.renderOutput(dataTable, element);\n",
              "        const docLink = document.createElement('div');\n",
              "        docLink.innerHTML = docLinkHtml;\n",
              "        element.appendChild(docLink);\n",
              "      }\n",
              "    </script>\n",
              "  </div>\n",
              "\n",
              "\n",
              "    <div id=\"df-4484fb71-c481-4b69-a5b0-627babeceea9\">\n",
              "      <button class=\"colab-df-quickchart\" onclick=\"quickchart('df-4484fb71-c481-4b69-a5b0-627babeceea9')\"\n",
              "                title=\"Suggest charts\"\n",
              "                style=\"display:none;\">\n",
              "\n",
              "<svg xmlns=\"http://www.w3.org/2000/svg\" height=\"24px\"viewBox=\"0 0 24 24\"\n",
              "     width=\"24px\">\n",
              "    <g>\n",
              "        <path d=\"M19 3H5c-1.1 0-2 .9-2 2v14c0 1.1.9 2 2 2h14c1.1 0 2-.9 2-2V5c0-1.1-.9-2-2-2zM9 17H7v-7h2v7zm4 0h-2V7h2v10zm4 0h-2v-4h2v4z\"/>\n",
              "    </g>\n",
              "</svg>\n",
              "      </button>\n",
              "\n",
              "<style>\n",
              "  .colab-df-quickchart {\n",
              "      --bg-color: #E8F0FE;\n",
              "      --fill-color: #1967D2;\n",
              "      --hover-bg-color: #E2EBFA;\n",
              "      --hover-fill-color: #174EA6;\n",
              "      --disabled-fill-color: #AAA;\n",
              "      --disabled-bg-color: #DDD;\n",
              "  }\n",
              "\n",
              "  [theme=dark] .colab-df-quickchart {\n",
              "      --bg-color: #3B4455;\n",
              "      --fill-color: #D2E3FC;\n",
              "      --hover-bg-color: #434B5C;\n",
              "      --hover-fill-color: #FFFFFF;\n",
              "      --disabled-bg-color: #3B4455;\n",
              "      --disabled-fill-color: #666;\n",
              "  }\n",
              "\n",
              "  .colab-df-quickchart {\n",
              "    background-color: var(--bg-color);\n",
              "    border: none;\n",
              "    border-radius: 50%;\n",
              "    cursor: pointer;\n",
              "    display: none;\n",
              "    fill: var(--fill-color);\n",
              "    height: 32px;\n",
              "    padding: 0;\n",
              "    width: 32px;\n",
              "  }\n",
              "\n",
              "  .colab-df-quickchart:hover {\n",
              "    background-color: var(--hover-bg-color);\n",
              "    box-shadow: 0 1px 2px rgba(60, 64, 67, 0.3), 0 1px 3px 1px rgba(60, 64, 67, 0.15);\n",
              "    fill: var(--button-hover-fill-color);\n",
              "  }\n",
              "\n",
              "  .colab-df-quickchart-complete:disabled,\n",
              "  .colab-df-quickchart-complete:disabled:hover {\n",
              "    background-color: var(--disabled-bg-color);\n",
              "    fill: var(--disabled-fill-color);\n",
              "    box-shadow: none;\n",
              "  }\n",
              "\n",
              "  .colab-df-spinner {\n",
              "    border: 2px solid var(--fill-color);\n",
              "    border-color: transparent;\n",
              "    border-bottom-color: var(--fill-color);\n",
              "    animation:\n",
              "      spin 1s steps(1) infinite;\n",
              "  }\n",
              "\n",
              "  @keyframes spin {\n",
              "    0% {\n",
              "      border-color: transparent;\n",
              "      border-bottom-color: var(--fill-color);\n",
              "      border-left-color: var(--fill-color);\n",
              "    }\n",
              "    20% {\n",
              "      border-color: transparent;\n",
              "      border-left-color: var(--fill-color);\n",
              "      border-top-color: var(--fill-color);\n",
              "    }\n",
              "    30% {\n",
              "      border-color: transparent;\n",
              "      border-left-color: var(--fill-color);\n",
              "      border-top-color: var(--fill-color);\n",
              "      border-right-color: var(--fill-color);\n",
              "    }\n",
              "    40% {\n",
              "      border-color: transparent;\n",
              "      border-right-color: var(--fill-color);\n",
              "      border-top-color: var(--fill-color);\n",
              "    }\n",
              "    60% {\n",
              "      border-color: transparent;\n",
              "      border-right-color: var(--fill-color);\n",
              "    }\n",
              "    80% {\n",
              "      border-color: transparent;\n",
              "      border-right-color: var(--fill-color);\n",
              "      border-bottom-color: var(--fill-color);\n",
              "    }\n",
              "    90% {\n",
              "      border-color: transparent;\n",
              "      border-bottom-color: var(--fill-color);\n",
              "    }\n",
              "  }\n",
              "</style>\n",
              "\n",
              "      <script>\n",
              "        async function quickchart(key) {\n",
              "          const quickchartButtonEl =\n",
              "            document.querySelector('#' + key + ' button');\n",
              "          quickchartButtonEl.disabled = true;  // To prevent multiple clicks.\n",
              "          quickchartButtonEl.classList.add('colab-df-spinner');\n",
              "          try {\n",
              "            const charts = await google.colab.kernel.invokeFunction(\n",
              "                'suggestCharts', [key], {});\n",
              "          } catch (error) {\n",
              "            console.error('Error during call to suggestCharts:', error);\n",
              "          }\n",
              "          quickchartButtonEl.classList.remove('colab-df-spinner');\n",
              "          quickchartButtonEl.classList.add('colab-df-quickchart-complete');\n",
              "        }\n",
              "        (() => {\n",
              "          let quickchartButtonEl =\n",
              "            document.querySelector('#df-4484fb71-c481-4b69-a5b0-627babeceea9 button');\n",
              "          quickchartButtonEl.style.display =\n",
              "            google.colab.kernel.accessAllowed ? 'block' : 'none';\n",
              "        })();\n",
              "      </script>\n",
              "    </div>\n",
              "\n",
              "    </div>\n",
              "  </div>\n"
            ],
            "application/vnd.google.colaboratory.intrinsic+json": {
              "type": "dataframe",
              "variable_name": "data"
            }
          },
          "metadata": {},
          "execution_count": 19
        }
      ]
    },
    {
      "cell_type": "code",
      "source": [
        "data.shape"
      ],
      "metadata": {
        "colab": {
          "base_uri": "https://localhost:8080/"
        },
        "id": "FkdyD0_guwAO",
        "outputId": "f9539165-e94d-49d7-cd8c-98f4826ffee9"
      },
      "execution_count": 6,
      "outputs": [
        {
          "output_type": "execute_result",
          "data": {
            "text/plain": [
              "(9965, 31)"
            ]
          },
          "metadata": {},
          "execution_count": 6
        }
      ]
    },
    {
      "cell_type": "markdown",
      "source": [
        "**The dataset contains 284,807 transactions with 31 features including**"
      ],
      "metadata": {
        "id": "FurVuH2quzw1"
      }
    },
    {
      "cell_type": "markdown",
      "source": [
        "#Understanding the Data"
      ],
      "metadata": {
        "id": "lXhrGh4Qk5tm"
      }
    },
    {
      "cell_type": "code",
      "source": [
        "print(data.describe())"
      ],
      "metadata": {
        "colab": {
          "base_uri": "https://localhost:8080/"
        },
        "id": "2OWUAxp5k50w",
        "outputId": "36b63631-9b21-4f6e-8807-b175500dd32e"
      },
      "execution_count": 7,
      "outputs": [
        {
          "output_type": "stream",
          "name": "stdout",
          "text": [
            "               Time           V1           V2           V3           V4  \\\n",
            "count   9965.000000  9965.000000  9965.000000  9964.000000  9964.000000   \n",
            "mean    5934.484897    -0.241681     0.280693     0.906359     0.260247   \n",
            "std     4449.407112     1.522695     1.308882     1.156948     1.440500   \n",
            "min        0.000000   -27.670569   -34.607649   -15.496222    -4.657545   \n",
            "25%     2061.000000    -1.012157    -0.208591     0.412198    -0.615591   \n",
            "50%     4547.000000    -0.372624     0.286179     0.943149     0.218492   \n",
            "75%    10163.000000     1.151506     0.900823     1.601871     1.119367   \n",
            "max    14864.000000     1.960497     8.636214     4.101716    10.463020   \n",
            "\n",
            "                V5           V6           V7           V8           V9  ...  \\\n",
            "count  9964.000000  9964.000000  9964.000000  9964.000000  9964.000000  ...   \n",
            "mean     -0.046342     0.132335    -0.071847    -0.065317     0.801220  ...   \n",
            "std       1.183634     1.307586     1.077872     1.260140     1.156424  ...   \n",
            "min     -32.092129   -23.496714   -26.548144   -23.632502    -6.329801  ...   \n",
            "25%      -0.643060    -0.630075    -0.542336    -0.190495     0.069439  ...   \n",
            "50%      -0.153090    -0.153577    -0.054658     0.012466     0.804930  ...   \n",
            "75%       0.371762     0.503376     0.476280     0.273016     1.506066  ...   \n",
            "max      34.099309    21.393069    34.303177     5.060381    10.392889  ...   \n",
            "\n",
            "               V21          V22          V23          V24          V25  \\\n",
            "count  9964.000000  9964.000000  9964.000000  9964.000000  9964.000000   \n",
            "mean     -0.052099    -0.152091    -0.033426     0.021638     0.087302   \n",
            "std       0.914735     0.631310     0.488203     0.593818     0.428128   \n",
            "min     -11.468435    -8.527145   -15.144340    -2.512377    -2.577363   \n",
            "25%      -0.268191    -0.548412    -0.174222    -0.327438    -0.157704   \n",
            "50%      -0.123101    -0.136078    -0.046009     0.079935     0.121180   \n",
            "75%       0.032707     0.247913     0.081288     0.410877     0.359418   \n",
            "max      22.588989     4.534454    13.876221     3.200201     5.525093   \n",
            "\n",
            "               V26          V27          V28       Amount        Class  \n",
            "count  9964.000000  9964.000000  9964.000000  9964.000000  9964.000000  \n",
            "mean      0.108328     0.005614     0.003051    62.968359     0.003814  \n",
            "std       0.562661     0.411434     0.266532   184.626707     0.061641  \n",
            "min      -1.338556    -7.976100    -3.509250     0.000000     0.000000  \n",
            "25%      -0.328193    -0.084489    -0.015751     5.000000     0.000000  \n",
            "50%       0.043395    -0.004505     0.015904    15.950000     0.000000  \n",
            "75%       0.478249     0.121045     0.077418    50.792500     0.000000  \n",
            "max       3.517346     8.254376     4.860769  7712.430000     1.000000  \n",
            "\n",
            "[8 rows x 31 columns]\n"
          ]
        }
      ]
    },
    {
      "cell_type": "markdown",
      "source": [
        "*  Time: This shows how many seconds have passed since the first transaction in the dataset.\n",
        "*  V1-V28: These are special features created to hide sensitive information about the original data.\n",
        "*  Amount: Transaction amount.\n",
        "*  Class: Target variable (0 for normal transactions, 1 for fraudulent transactions)."
      ],
      "metadata": {
        "id": "HCVxUf6euo6m"
      }
    },
    {
      "cell_type": "markdown",
      "source": [
        "#Describing the Data"
      ],
      "metadata": {
        "id": "5Ag5BVjmlAik"
      }
    },
    {
      "cell_type": "markdown",
      "source": [
        "## Analyzing Class Distribution\n",
        "The next step is to check the distribution of fraudulent vs. normal transactions.\n",
        "\n",
        "*  We separate the dataset into two groups: fraudulent transactions (Class == 1) and valid transactions (Class == 0).\n",
        "*  It calculates the ratio of fraud cases to valid cases to measure how imbalanced the dataset is.\n",
        "*  It then prints the outlier fraction along with the number of fraud and valid transactions.\n",
        "*  This analysis is crucial in fraud detection, as it reveals how rare fraud cases are and whether techniques like resampling or special evaluation metrics are needed."
      ],
      "metadata": {
        "id": "BrdiONHqvd0o"
      }
    },
    {
      "cell_type": "markdown",
      "source": [
        "#Imbalance in the data"
      ],
      "metadata": {
        "id": "xASeDir2lEV3"
      }
    },
    {
      "cell_type": "code",
      "source": [
        "fraud = data[data['Class'] == 1]\n",
        "valid = data[data['Class'] == 0]\n",
        "outlierFraction = (len(fraud)/float(len(valid)))*100\n",
        "print(outlierFraction)\n",
        "print('Fraud Cases: {}'.format(len(data[data['Class'] == 1])))\n",
        "print('Valid Transactions: {}'.format(len(data[data['Class'] == 0])))"
      ],
      "metadata": {
        "colab": {
          "base_uri": "https://localhost:8080/"
        },
        "id": "PUkzpXpslEi5",
        "outputId": "31d4b3d8-d031-4215-f71e-7691c55e8ba9"
      },
      "execution_count": 8,
      "outputs": [
        {
          "output_type": "stream",
          "name": "stdout",
          "text": [
            "0.38283296393310495\n",
            "Fraud Cases: 38\n",
            "Valid Transactions: 9926\n"
          ]
        }
      ]
    },
    {
      "cell_type": "markdown",
      "source": [
        "Since the dataset is highly imbalanced with only 0.18% fraudulent transactions. we’ll first try to build a model without balancing the dataset. If we don’t get satisfactory results we will explore ways to handle the imbalance."
      ],
      "metadata": {
        "id": "Pe3PExUewEm3"
      }
    },
    {
      "cell_type": "markdown",
      "source": [
        "#Print the amount details for Fraudulent Transaction"
      ],
      "metadata": {
        "id": "EuaFSTwWlMv7"
      }
    },
    {
      "cell_type": "code",
      "source": [
        "print(\"Amount details of the fraudulent transaction\")\n",
        "fraud.Amount.describe()"
      ],
      "metadata": {
        "colab": {
          "base_uri": "https://localhost:8080/",
          "height": 352
        },
        "id": "sQeWkjpFlM4p",
        "outputId": "1c364777-b61a-4af5-eac4-ec3c12f65f44"
      },
      "execution_count": 9,
      "outputs": [
        {
          "output_type": "stream",
          "name": "stdout",
          "text": [
            "Amount details of the fraudulent transaction\n"
          ]
        },
        {
          "output_type": "execute_result",
          "data": {
            "text/plain": [
              "count      38.000000\n",
              "mean       75.730526\n",
              "std       304.521215\n",
              "min         0.000000\n",
              "25%         1.000000\n",
              "50%         1.000000\n",
              "75%         1.000000\n",
              "max      1809.680000\n",
              "Name: Amount, dtype: float64"
            ],
            "text/html": [
              "<div>\n",
              "<style scoped>\n",
              "    .dataframe tbody tr th:only-of-type {\n",
              "        vertical-align: middle;\n",
              "    }\n",
              "\n",
              "    .dataframe tbody tr th {\n",
              "        vertical-align: top;\n",
              "    }\n",
              "\n",
              "    .dataframe thead th {\n",
              "        text-align: right;\n",
              "    }\n",
              "</style>\n",
              "<table border=\"1\" class=\"dataframe\">\n",
              "  <thead>\n",
              "    <tr style=\"text-align: right;\">\n",
              "      <th></th>\n",
              "      <th>Amount</th>\n",
              "    </tr>\n",
              "  </thead>\n",
              "  <tbody>\n",
              "    <tr>\n",
              "      <th>count</th>\n",
              "      <td>38.000000</td>\n",
              "    </tr>\n",
              "    <tr>\n",
              "      <th>mean</th>\n",
              "      <td>75.730526</td>\n",
              "    </tr>\n",
              "    <tr>\n",
              "      <th>std</th>\n",
              "      <td>304.521215</td>\n",
              "    </tr>\n",
              "    <tr>\n",
              "      <th>min</th>\n",
              "      <td>0.000000</td>\n",
              "    </tr>\n",
              "    <tr>\n",
              "      <th>25%</th>\n",
              "      <td>1.000000</td>\n",
              "    </tr>\n",
              "    <tr>\n",
              "      <th>50%</th>\n",
              "      <td>1.000000</td>\n",
              "    </tr>\n",
              "    <tr>\n",
              "      <th>75%</th>\n",
              "      <td>1.000000</td>\n",
              "    </tr>\n",
              "    <tr>\n",
              "      <th>max</th>\n",
              "      <td>1809.680000</td>\n",
              "    </tr>\n",
              "  </tbody>\n",
              "</table>\n",
              "</div><br><label><b>dtype:</b> float64</label>"
            ]
          },
          "metadata": {},
          "execution_count": 9
        }
      ]
    },
    {
      "cell_type": "markdown",
      "source": [
        "# Print the amount details for Normal Transaction"
      ],
      "metadata": {
        "id": "mSPyTOSNlS9e"
      }
    },
    {
      "cell_type": "code",
      "source": [
        "print(\"details of valid transaction\")\n",
        "valid.Amount.describe()"
      ],
      "metadata": {
        "colab": {
          "base_uri": "https://localhost:8080/",
          "height": 352
        },
        "id": "n7YhuaymlUZ0",
        "outputId": "941e0e48-d7f2-4a5f-cbeb-2e7a0645ab8c"
      },
      "execution_count": 10,
      "outputs": [
        {
          "output_type": "stream",
          "name": "stdout",
          "text": [
            "details of valid transaction\n"
          ]
        },
        {
          "output_type": "execute_result",
          "data": {
            "text/plain": [
              "count    9926.000000\n",
              "mean       62.919501\n",
              "std       184.041297\n",
              "min         0.000000\n",
              "25%         5.172500\n",
              "50%        15.950000\n",
              "75%        51.067500\n",
              "max      7712.430000\n",
              "Name: Amount, dtype: float64"
            ],
            "text/html": [
              "<div>\n",
              "<style scoped>\n",
              "    .dataframe tbody tr th:only-of-type {\n",
              "        vertical-align: middle;\n",
              "    }\n",
              "\n",
              "    .dataframe tbody tr th {\n",
              "        vertical-align: top;\n",
              "    }\n",
              "\n",
              "    .dataframe thead th {\n",
              "        text-align: right;\n",
              "    }\n",
              "</style>\n",
              "<table border=\"1\" class=\"dataframe\">\n",
              "  <thead>\n",
              "    <tr style=\"text-align: right;\">\n",
              "      <th></th>\n",
              "      <th>Amount</th>\n",
              "    </tr>\n",
              "  </thead>\n",
              "  <tbody>\n",
              "    <tr>\n",
              "      <th>count</th>\n",
              "      <td>9926.000000</td>\n",
              "    </tr>\n",
              "    <tr>\n",
              "      <th>mean</th>\n",
              "      <td>62.919501</td>\n",
              "    </tr>\n",
              "    <tr>\n",
              "      <th>std</th>\n",
              "      <td>184.041297</td>\n",
              "    </tr>\n",
              "    <tr>\n",
              "      <th>min</th>\n",
              "      <td>0.000000</td>\n",
              "    </tr>\n",
              "    <tr>\n",
              "      <th>25%</th>\n",
              "      <td>5.172500</td>\n",
              "    </tr>\n",
              "    <tr>\n",
              "      <th>50%</th>\n",
              "      <td>15.950000</td>\n",
              "    </tr>\n",
              "    <tr>\n",
              "      <th>75%</th>\n",
              "      <td>51.067500</td>\n",
              "    </tr>\n",
              "    <tr>\n",
              "      <th>max</th>\n",
              "      <td>7712.430000</td>\n",
              "    </tr>\n",
              "  </tbody>\n",
              "</table>\n",
              "</div><br><label><b>dtype:</b> float64</label>"
            ]
          },
          "metadata": {},
          "execution_count": 10
        }
      ]
    },
    {
      "cell_type": "markdown",
      "source": [
        "#Plotting the Correlation Matrix"
      ],
      "metadata": {
        "id": "kd-P74sElaEU"
      }
    },
    {
      "cell_type": "code",
      "source": [
        "corrmat = data.corr()\n",
        "fig = plt.figure(figsize = (12, 9))\n",
        "sns.heatmap(corrmat, vmax = .8, square = True)\n",
        "plt.show()"
      ],
      "metadata": {
        "colab": {
          "base_uri": "https://localhost:8080/",
          "height": 742
        },
        "id": "BFHP1nTxlaUw",
        "outputId": "2fdcc507-7f00-4e75-cfc0-de10f5608f40"
      },
      "execution_count": 11,
      "outputs": [
        {
          "output_type": "display_data",
          "data": {
            "text/plain": [
              "<Figure size 1200x900 with 2 Axes>"
            ],
            "image/png": "[encoded data removed]"
          },
          "metadata": {}
        }
      ]
    },
    {
      "cell_type": "markdown",
      "source": [
        "Most features do not correlate strongly with others but some features like V2 and V5 have a negative correlation with the Amount feature. This provides valuable insights into how the features are related to the transaction amounts."
      ],
      "metadata": {
        "id": "_hZW3BVDxDRT"
      }
    },
    {
      "cell_type": "markdown",
      "source": [
        "#Separating the X and the Y values"
      ],
      "metadata": {
        "id": "vW_tUTIRlfp5"
      }
    },
    {
      "cell_type": "code",
      "source": [
        "# dividing the X and the Y from the dataset\n",
        "X = data.drop(['Class'], axis = 1)#removes the target column\n",
        "Y = data[\"Class\"]# selects the Class column as the target variable (fraud or not).\n",
        "print(X.shape)\n",
        "print(Y.shape)\n",
        "# getting just the values for the sake of processing\n",
        "# (its a numpy array with no columns)\n",
        "xData = X.values\n",
        "yData = Y.values"
      ],
      "metadata": {
        "colab": {
          "base_uri": "https://localhost:8080/"
        },
        "id": "azKBjmyGlgcy",
        "outputId": "5d86345d-7cde-473d-9e00-166f1e2aa85d"
      },
      "execution_count": 21,
      "outputs": [
        {
          "output_type": "stream",
          "name": "stdout",
          "text": [
            "(190239, 30)\n",
            "(190239,)\n"
          ]
        }
      ]
    },
    {
      "cell_type": "markdown",
      "source": [
        "#Training and Testing Data Bifurcation"
      ],
      "metadata": {
        "id": "D_5qQU_9lmhU"
      }
    },
    {
      "cell_type": "code",
      "source": [
        "# Using Scikit-learn to split data into training and testing sets\n",
        "from sklearn.model_selection import train_test_split\n",
        "# Split the data into training and testing sets\n",
        "xTrain, xTest, yTrain, yTest = train_test_split(\n",
        "        xData, yData, test_size = 0.2, random_state = 42)\n"
      ],
      "metadata": {
        "id": "8amMWiAyloZ-"
      },
      "execution_count": 22,
      "outputs": []
    },
    {
      "cell_type": "markdown",
      "source": [
        "#Building a Random Forest Model using scikit learn"
      ],
      "metadata": {
        "id": "HSx5Cv3Wlp_Y"
      }
    },
    {
      "cell_type": "code",
      "source": [
        "from sklearn.ensemble import RandomForestClassifier\n",
        "\n",
        "rfc = RandomForestClassifier()\n",
        "rfc.fit(xTrain, yTrain)\n",
        "# predictions\n",
        "yPred = rfc.predict(xTest)"
      ],
      "metadata": {
        "id": "Bg2lDqXclrMz"
      },
      "execution_count": 23,
      "outputs": []
    },
    {
      "cell_type": "code",
      "source": [
        "from sklearn.impute import SimpleImputer\n",
        "print(\"NaN values in yTest before imputation:\", np.isnan(yTest).sum())\n",
        "\n",
        "imputer = SimpleImputer(strategy='most_frequent')\n",
        "yTest = imputer.fit_transform(yTest.reshape(-1, 1)).flatten()\n",
        "print(\"NaN values in yTest after imputation:\", np.isnan(yTest).sum())"
      ],
      "metadata": {
        "colab": {
          "base_uri": "https://localhost:8080/"
        },
        "id": "qJQ8LyHbDFuo",
        "outputId": "f2e8e0d9-ee7b-4282-b898-734bb0921738"
      },
      "execution_count": 15,
      "outputs": [
        {
          "output_type": "stream",
          "name": "stdout",
          "text": [
            "NaN values in yTest before imputation: 0\n",
            "NaN values in yTest after imputation: 0\n"
          ]
        }
      ]
    },
    {
      "cell_type": "markdown",
      "source": [
        "# Building all kinds of evaluating parameters"
      ],
      "metadata": {
        "id": "uxcnrPP8lup8"
      }
    },
    {
      "cell_type": "code",
      "source": [
        "# Evaluating the classifier\n",
        "# printing every score of the classifier\n",
        "# scoring in anything\n",
        "from sklearn.metrics import classification_report, accuracy_score\n",
        "from sklearn.metrics import precision_score, recall_score\n",
        "from sklearn.metrics import f1_score, matthews_corrcoef\n",
        "from sklearn.metrics import confusion_matrix\n",
        "\n",
        "n_outliers = len(fraud)\n",
        "n_errors = (yPred != yTest).sum()\n",
        "print(\"The model used is Random Forest classifier\")"
      ],
      "metadata": {
        "colab": {
          "base_uri": "https://localhost:8080/"
        },
        "id": "nqvYn5sXlvm2",
        "outputId": "6d6a169c-268d-4d29-8f50-cbf81e0d00be"
      },
      "execution_count": 24,
      "outputs": [
        {
          "output_type": "stream",
          "name": "stdout",
          "text": [
            "The model used is Random Forest classifier\n"
          ]
        }
      ]
    },
    {
      "cell_type": "code",
      "source": [
        "acc = accuracy_score(yTest, yPred)\n",
        "print(\"The accuracy is {}\".format(acc))"
      ],
      "metadata": {
        "colab": {
          "base_uri": "https://localhost:8080/"
        },
        "id": "eiWmUgAD0UYH",
        "outputId": "4955d8e4-d262-4715-dfe6-33e755ec7b58"
      },
      "execution_count": 25,
      "outputs": [
        {
          "output_type": "stream",
          "name": "stdout",
          "text": [
            "The accuracy is 0.9996057611438184\n"
          ]
        }
      ]
    },
    {
      "cell_type": "code",
      "source": [
        "prec = precision_score(yTest, yPred)\n",
        "print(\"The precision is {}\".format(prec))"
      ],
      "metadata": {
        "colab": {
          "base_uri": "https://localhost:8080/"
        },
        "id": "-U6lXdz80X-C",
        "outputId": "0baf2445-f32d-410b-f830-3871999ec0e7"
      },
      "execution_count": 26,
      "outputs": [
        {
          "output_type": "stream",
          "name": "stdout",
          "text": [
            "The precision is 0.9402985074626866\n"
          ]
        }
      ]
    },
    {
      "cell_type": "code",
      "source": [
        "rec = recall_score(yTest, yPred)\n",
        "print(\"The recall is {}\".format(rec))"
      ],
      "metadata": {
        "colab": {
          "base_uri": "https://localhost:8080/"
        },
        "id": "_u6FCf3L0Z6A",
        "outputId": "20bc2a91-54b4-40f5-9369-3da12560c76c"
      },
      "execution_count": 27,
      "outputs": [
        {
          "output_type": "stream",
          "name": "stdout",
          "text": [
            "The recall is 0.8513513513513513\n"
          ]
        }
      ]
    },
    {
      "cell_type": "code",
      "source": [
        "f1 = f1_score(yTest, yPred)\n",
        "print(\"The F1-Score is {}\".format(f1))"
      ],
      "metadata": {
        "colab": {
          "base_uri": "https://localhost:8080/"
        },
        "id": "LaeeY2bE0eo1",
        "outputId": "ca117365-32ae-4692-c811-ffdcf0603c4f"
      },
      "execution_count": 28,
      "outputs": [
        {
          "output_type": "stream",
          "name": "stdout",
          "text": [
            "The F1-Score is 0.8936170212765957\n"
          ]
        }
      ]
    },
    {
      "cell_type": "code",
      "source": [
        "MCC = matthews_corrcoef(yTest, yPred)\n",
        "print(\"The Matthews correlation coefficient is{}\".format(MCC))"
      ],
      "metadata": {
        "colab": {
          "base_uri": "https://localhost:8080/"
        },
        "id": "7YAZzRpP0hiz",
        "outputId": "12a88918-56d4-4254-ce3a-b1d7460eaaf1"
      },
      "execution_count": 29,
      "outputs": [
        {
          "output_type": "stream",
          "name": "stdout",
          "text": [
            "The Matthews correlation coefficient is0.8945271498698677\n"
          ]
        }
      ]
    },
    {
      "cell_type": "markdown",
      "source": [
        "We observe:\n",
        "\n",
        "*  **Accuracy: 0.9996**: Out of all predictions, 99.96% were correct. However, in imbalanced datasets (like fraud detection), accuracy can be misleading i.e. a model that predicts everything as \"not fraud\" will still have high accuracy.\n",
        "*  **Precision: 0.94029**: When the model predicted \"fraud\", it was correct 94.02% of the time. High precision means very few false alarms (false positives).\n",
        "*  **Recall: 0.85135**: Out of all actual fraud cases, the model detected 85.13%. This shows how well it catches real frauds. A lower recall means some frauds were missed (false negatives).\n",
        "*  **F1-Score: 0.89361**: A balance between precision and recall. 89.36% is strong and shows the model handles both catching fraud and avoiding false alarms well.\n",
        "*  **Matthews Correlation Coefficient (MCC): 0.894527**: A more balanced score (from -1 to +1) even when classes are imbalanced. A value of 0.894527 is very good, it means the model is making strong, balanced predictions overall"
      ],
      "metadata": {
        "id": "t6XhMxgf1Jyb"
      }
    },
    {
      "cell_type": "markdown",
      "source": [
        "#Visualizing the Confusion Matrix"
      ],
      "metadata": {
        "id": "Y4ul17Rnl2Cg"
      }
    },
    {
      "cell_type": "code",
      "source": [
        "# printing the confusion matrix\n",
        "LABELS = ['Normal', 'Fraud']\n",
        "conf_matrix = confusion_matrix(yTest, yPred)\n",
        "plt.figure(figsize =(12, 12))\n",
        "sns.heatmap(conf_matrix, xticklabels = LABELS,\n",
        "            yticklabels = LABELS, annot = True, fmt =\"d\");\n",
        "plt.title(\"Confusion matrix\")\n",
        "plt.ylabel('True class')\n",
        "plt.xlabel('Predicted class')\n",
        "plt.show()"
      ],
      "metadata": {
        "colab": {
          "base_uri": "https://localhost:8080/",
          "height": 901
        },
        "id": "5hDq9bEfl2zX",
        "outputId": "03bbabed-1881-4688-a749-4b494c633bee"
      },
      "execution_count": 30,
      "outputs": [
        {
          "output_type": "display_data",
          "data": {
            "text/plain": [
              "<Figure size 1200x1200 with 2 Axes>"
            ],
            "image/png": "[encoded data removed]"
          },
          "metadata": {}
        }
      ]
    },
    {
      "cell_type": "markdown",
      "metadata": {
        "id": "26cd9933"
      },
      "source": [
        "# Task\n",
        "Explain the error in the selected code, fix it if possible, and incorporate the changes. Since the dataset is imbalanced, apply SMOTE to address this issue and evaluate the impact on the model's performance using accuracy, precision, recall, F1-score, and Matthews Correlation Coefficient."
      ]
    },
    {
      "cell_type": "markdown",
      "metadata": {
        "id": "43d6df96"
      },
      "source": [
        "## Install imbalanced-learn library\n",
        "\n",
        "### Subtask:\n",
        "Install the imbalanced-learn library which is required for applying SMOTE.\n"
      ]
    },
    {
      "cell_type": "markdown",
      "metadata": {
        "id": "bdda06ed"
      },
      "source": [
        "**Reasoning**:\n",
        "The subtask requires installing the `imbalanced-learn` library, which can be done using pip in a separate cell.\n",
        "\n"
      ]
    },
    {
      "cell_type": "code",
      "metadata": {
        "colab": {
          "base_uri": "https://localhost:8080/"
        },
        "id": "dd9421a6",
        "outputId": "b8d49de4-0a82-48ed-95ee-2613549e972f"
      },
      "source": [
        "%pip install imbalanced-learn"
      ],
      "execution_count": 31,
      "outputs": [
        {
          "output_type": "stream",
          "name": "stdout",
          "text": [
            "Requirement already satisfied: imbalanced-learn in /usr/local/lib/python3.11/dist-packages (0.13.0)\n",
            "Requirement already satisfied: numpy<3,>=1.24.3 in /usr/local/lib/python3.11/dist-packages (from imbalanced-learn) (2.0.2)\n",
            "Requirement already satisfied: scipy<2,>=1.10.1 in /usr/local/lib/python3.11/dist-packages (from imbalanced-learn) (1.15.3)\n",
            "Requirement already satisfied: scikit-learn<2,>=1.3.2 in /usr/local/lib/python3.11/dist-packages (from imbalanced-learn) (1.6.1)\n",
            "Requirement already satisfied: sklearn-compat<1,>=0.1 in /usr/local/lib/python3.11/dist-packages (from imbalanced-learn) (0.1.3)\n",
            "Requirement already satisfied: joblib<2,>=1.1.1 in /usr/local/lib/python3.11/dist-packages (from imbalanced-learn) (1.5.1)\n",
            "Requirement already satisfied: threadpoolctl<4,>=2.0.0 in /usr/local/lib/python3.11/dist-packages (from imbalanced-learn) (3.6.0)\n"
          ]
        }
      ]
    },
    {
      "cell_type": "markdown",
      "metadata": {
        "id": "36716fbd"
      },
      "source": [
        "## Apply smote to training data\n",
        "\n",
        "### Subtask:\n",
        "Apply SMOTE to the training data to address the class imbalance.\n"
      ]
    },
    {
      "cell_type": "markdown",
      "metadata": {
        "id": "22142943"
      },
      "source": [
        "**Reasoning**:\n",
        "Apply SMOTE to the training data to address the class imbalance.\n",
        "\n"
      ]
    },
    {
      "cell_type": "code",
      "metadata": {
        "colab": {
          "base_uri": "https://localhost:8080/"
        },
        "id": "ad76a5e0",
        "outputId": "bc1ed81c-b193-41f3-c99f-45d171ab0f0a"
      },
      "source": [
        "from imblearn.over_sampling import SMOTE\n",
        "\n",
        "smote = SMOTE(random_state=42)\n",
        "xTrain_resampled, yTrain_resampled = smote.fit_resample(xTrain, yTrain)\n",
        "\n",
        "print(\"Shape of xTrain before SMOTE:\", xTrain.shape)\n",
        "print(\"Shape of yTrain before SMOTE:\", yTrain.shape)\n",
        "print(\"Shape of xTrain after SMOTE:\", xTrain_resampled.shape)\n",
        "print(\"Shape of yTrain after SMOTE:\", yTrain_resampled.shape)"
      ],
      "execution_count": 32,
      "outputs": [
        {
          "output_type": "stream",
          "name": "stdout",
          "text": [
            "Shape of xTrain before SMOTE: (152191, 30)\n",
            "Shape of yTrain before SMOTE: (152191,)\n",
            "Shape of xTrain after SMOTE: (303788, 30)\n",
            "Shape of yTrain after SMOTE: (303788,)\n"
          ]
        }
      ]
    },
    {
      "cell_type": "markdown",
      "metadata": {
        "id": "908ba5da"
      },
      "source": [
        "## Retrain the model\n",
        "\n",
        "### Subtask:\n",
        "Train a Random Forest classifier on the SMOTE-resampled training data.\n"
      ]
    },
    {
      "cell_type": "markdown",
      "metadata": {
        "id": "c0e62bb2"
      },
      "source": [
        "**Reasoning**:\n",
        "Train a Random Forest classifier on the SMOTE-resampled training data and make predictions on the test data.\n",
        "\n"
      ]
    },
    {
      "cell_type": "code",
      "metadata": {
        "id": "90665c7a"
      },
      "source": [
        "rfc_smote = RandomForestClassifier(random_state=42)\n",
        "rfc_smote.fit(xTrain_resampled, yTrain_resampled)\n",
        "yPred_resampled = rfc_smote.predict(xTest)"
      ],
      "execution_count": 33,
      "outputs": []
    },
    {
      "cell_type": "markdown",
      "metadata": {
        "id": "eda49869"
      },
      "source": [
        "## Evaluate the retrained model\n",
        "\n",
        "### Subtask:\n",
        "Evaluate the performance of the Random Forest model trained on SMOTE-resampled data using accuracy, precision, recall, F1-score, Matthews Correlation Coefficient, and the confusion matrix.\n"
      ]
    },
    {
      "cell_type": "markdown",
      "metadata": {
        "id": "39e70a53"
      },
      "source": [
        "**Reasoning**:\n",
        "Calculate and print the evaluation metrics and generate the confusion matrix for the model trained on SMOTE-resampled data.\n",
        "\n"
      ]
    },
    {
      "cell_type": "code",
      "metadata": {
        "colab": {
          "base_uri": "https://localhost:8080/",
          "height": 1000
        },
        "id": "f82a93c5",
        "outputId": "1110ada6-f71b-48cc-8428-c0621947c08b"
      },
      "source": [
        "print(\"Evaluation metrics for Random Forest classifier with SMOTE\")\n",
        "\n",
        "acc_resampled = accuracy_score(yTest, yPred_resampled)\n",
        "print(\"The accuracy is {}\".format(acc_resampled))\n",
        "\n",
        "prec_resampled = precision_score(yTest, yPred_resampled)\n",
        "print(\"The precision is {}\".format(prec_resampled))\n",
        "\n",
        "rec_resampled = recall_score(yTest, yPred_resampled)\n",
        "print(\"The recall is {}\".format(rec_resampled))\n",
        "\n",
        "f1_resampled = f1_score(yTest, yPred_resampled)\n",
        "print(\"The F1-Score is {}\".format(f1_resampled))\n",
        "\n",
        "MCC_resampled = matthews_corrcoef(yTest, yPred_resampled)\n",
        "print(\"The Matthews correlation coefficient is {}\".format(MCC_resampled))\n",
        "\n",
        "LABELS = ['Normal', 'Fraud']\n",
        "conf_matrix_resampled = confusion_matrix(yTest, yPred_resampled)\n",
        "plt.figure(figsize =(12, 12))\n",
        "sns.heatmap(conf_matrix_resampled, xticklabels = LABELS,\n",
        "            yticklabels = LABELS, annot = True, fmt =\"d\");\n",
        "plt.title(\"Confusion matrix with SMOTE\")\n",
        "plt.ylabel('True class')\n",
        "plt.xlabel('Predicted class')\n",
        "plt.show()"
      ],
      "execution_count": 35,
      "outputs": [
        {
          "output_type": "stream",
          "name": "stdout",
          "text": [
            "Evaluation metrics for Random Forest classifier with SMOTE\n",
            "The accuracy is 0.999526913372582\n",
            "The precision is 0.8783783783783784\n",
            "The recall is 0.8783783783783784\n",
            "The F1-Score is 0.8783783783783784\n",
            "The Matthews correlation coefficient is 0.8781413741123016\n"
          ]
        },
        {
          "output_type": "display_data",
          "data": {
            "text/plain": [
              "<Figure size 1200x1200 with 2 Axes>"
            ],
            "image/png": "[encoded data removed]"
          },
          "metadata": {}
        }
      ]
    },
    {
      "cell_type": "markdown",
      "metadata": {
        "id": "593d3d90"
      },
      "source": [
        "## Compare results\n",
        "\n",
        "\n",
        "Compare the evaluation metrics of the Random Forest model trained on the original data and the model trained on the SMOTE-resampled data.\n"
      ]
    },
    {
      "cell_type": "markdown",
      "metadata": {
        "id": "ca93a077"
      },
      "source": [
        "**Reasoning**:\n",
        "Print and compare the evaluation metrics for both models.\n",
        "\n"
      ]
    },
    {
      "cell_type": "code",
      "metadata": {
        "colab": {
          "base_uri": "https://localhost:8080/"
        },
        "id": "b8c62553",
        "outputId": "e3e212f5-5e86-4261-fed6-80858d323a3e"
      },
      "source": [
        "print(\"Evaluation Metrics - Original Data:\")\n",
        "print(\"Accuracy:\", acc)\n",
        "print(\"Precision:\", prec)\n",
        "print(\"Recall:\", rec)\n",
        "print(\"F1-Score:\", f1)\n",
        "print(\"Matthews Correlation Coefficient:\", MCC)\n",
        "\n",
        "print(\"\\nEvaluation Metrics - SMOTE Resampled Data:\")\n",
        "print(\"Accuracy:\", acc_resampled)\n",
        "print(\"Precision:\", prec_resampled)\n",
        "print(\"Recall:\", rec_resampled)\n",
        "print(\"F1-Score:\", f1_resampled)\n",
        "print(\"Matthews Correlation Coefficient:\", MCC_resampled)\n",
        "\n",
        "print(\"\\nAnalysis:\")\n",
        "print(\"Comparing the metrics, we can observe the impact of SMOTE:\")\n",
        "print(f\"- Accuracy: The accuracy is similar ({acc:.4f} vs {acc_resampled:.4f}), which is expected in highly imbalanced datasets.\")\n",
        "print(f\"- Precision: Precision decreased slightly ({prec:.4f} vs {prec_resampled:.4f}). This suggests that the model with SMOTE made slightly more false positive predictions (predicting fraud when it was normal).\")\n",
        "print(f\"- Recall: Recall increased significantly ({rec:.4f} vs {rec_resampled:.4f}). This indicates that the model with SMOTE was much better at identifying actual fraudulent transactions (reduced false negatives).\")\n",
        "print(f\"- F1-Score: The F1-Score is slightly higher with SMOTE ({f1:.4f} vs {f1_resampled:.4f}). This metric balances precision and recall, suggesting a better overall performance in identifying fraud while considering false positives.\")\n",
        "print(f\"- Matthews Correlation Coefficient: The MCC is slightly lower with SMOTE ({MCC:.4f} vs {MCC_resampled:.4f}). While still high, this indicates a minor trade-off in the overall quality of classification compared to the original model, likely due to the slight decrease in precision.\")\n",
        "print(\"\\nIn summary, SMOTE has improved the model's ability to detect fraudulent transactions (higher recall) at the cost of a slight increase in false positives (lower precision). The F1-Score indicates a better balance, while the MCC suggests a minor reduction in overall classification quality.\")"
      ],
      "execution_count": 36,
      "outputs": [
        {
          "output_type": "stream",
          "name": "stdout",
          "text": [
            "Evaluation Metrics - Original Data:\n",
            "Accuracy: 0.9996057611438184\n",
            "Precision: 0.9402985074626866\n",
            "Recall: 0.8513513513513513\n",
            "F1-Score: 0.8936170212765957\n",
            "Matthews Correlation Coefficient: 0.8945271498698677\n",
            "\n",
            "Evaluation Metrics - SMOTE Resampled Data:\n",
            "Accuracy: 0.999526913372582\n",
            "Precision: 0.8783783783783784\n",
            "Recall: 0.8783783783783784\n",
            "F1-Score: 0.8783783783783784\n",
            "Matthews Correlation Coefficient: 0.8781413741123016\n",
            "\n",
            "Analysis:\n",
            "Comparing the metrics, we can observe the impact of SMOTE:\n",
            "- Accuracy: The accuracy is similar (0.9996 vs 0.9995), which is expected in highly imbalanced datasets.\n",
            "- Precision: Precision decreased slightly (0.9403 vs 0.8784). This suggests that the model with SMOTE made slightly more false positive predictions (predicting fraud when it was normal).\n",
            "- Recall: Recall increased significantly (0.8514 vs 0.8784). This indicates that the model with SMOTE was much better at identifying actual fraudulent transactions (reduced false negatives).\n",
            "- F1-Score: The F1-Score is slightly higher with SMOTE (0.8936 vs 0.8784). This metric balances precision and recall, suggesting a better overall performance in identifying fraud while considering false positives.\n",
            "- Matthews Correlation Coefficient: The MCC is slightly lower with SMOTE (0.8945 vs 0.8781). While still high, this indicates a minor trade-off in the overall quality of classification compared to the original model, likely due to the slight decrease in precision.\n",
            "\n",
            "In summary, SMOTE has improved the model's ability to detect fraudulent transactions (higher recall) at the cost of a slight increase in false positives (lower precision). The F1-Score indicates a better balance, while the MCC suggests a minor reduction in overall classification quality.\n"
          ]
        }
      ]
    },
    {
      "cell_type": "markdown",
      "metadata": {
        "id": "2a593f8a"
      },
      "source": [
        "## Summary:\n",
        "\n",
        "### Data Analysis Key Findings\n",
        "\n",
        "*   The Random Forest model trained on the SMOTE-resampled data achieved an accuracy of approximately 0.9995.\n",
        "*   With SMOTE, the precision, recall, and F1-Score of the model were all approximately 0.8784, while the Matthews correlation coefficient was approximately 0.8781.\n",
        "*   Compared to the model trained on original data, the model trained with SMOTE showed a significant increase in recall (ability to detect fraud) but a slight decrease in precision (more false positives).\n",
        "*   The F1-Score, which balances precision and recall, was slightly higher for the model trained with SMOTE, indicating a potentially better overall performance in identifying fraud.\n",
        "*   The Matthews Correlation Coefficient was slightly lower with SMOTE, suggesting a minor trade-off in overall classification quality due to the precision decrease.\n",
        "\n",
        "### Insights or Next Steps\n",
        "\n",
        "*   While SMOTE improved the recall for fraud detection.\n",
        "\n"
      ]
    }
  ]
}